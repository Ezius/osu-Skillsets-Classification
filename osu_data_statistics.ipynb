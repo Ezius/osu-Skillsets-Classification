{
 "cells": [
  {
   "cell_type": "code",
   "execution_count": 34,
   "id": "ca74f7e6",
   "metadata": {},
   "outputs": [],
   "source": [
    "import pandas as pd\n",
    "from pathlib import Path\n",
    "import matplotlib.pyplot as plt\n",
    "import numpy as np\n",
    "import pickle\n",
    "import seaborn as sns"
   ]
  },
  {
   "cell_type": "code",
   "execution_count": 11,
   "id": "d4743c5c",
   "metadata": {},
   "outputs": [],
   "source": [
    "with open(\"data/beatmap_data.pkl\", \"rb\") as pkl:\n",
    "    loaded = pickle.load(pkl)"
   ]
  },
  {
   "cell_type": "code",
   "execution_count": 23,
   "id": "1b438079",
   "metadata": {},
   "outputs": [],
   "source": [
    "b_id, b_data, b_extra_data, b_skill = zip(*[(l[1], l[2], l[3], l[4])for l in loaded])\n",
    "b_extra_data = np.array(b_extra_data)\n",
    "df = pd.DataFrame({\"ID\":b_id,\"Skillset\":b_skill, \"AR\":b_extra_data[:,0],\"BPM_Min\":b_extra_data[:,1],\"BPM\":b_extra_data[:,2], \"BPM_Max\":b_extra_data[:,3]})"
   ]
  },
  {
   "cell_type": "code",
   "execution_count": null,
   "id": "02bd7532",
   "metadata": {},
   "outputs": [
    {
     "data": {
      "text/html": [
       "<div>\n",
       "<style scoped>\n",
       "    .dataframe tbody tr th:only-of-type {\n",
       "        vertical-align: middle;\n",
       "    }\n",
       "\n",
       "    .dataframe tbody tr th {\n",
       "        vertical-align: top;\n",
       "    }\n",
       "\n",
       "    .dataframe thead th {\n",
       "        text-align: right;\n",
       "    }\n",
       "</style>\n",
       "<table border=\"1\" class=\"dataframe\">\n",
       "  <thead>\n",
       "    <tr style=\"text-align: right;\">\n",
       "      <th></th>\n",
       "      <th>ID</th>\n",
       "      <th>Skillset</th>\n",
       "      <th>AR</th>\n",
       "      <th>BPM_Min</th>\n",
       "      <th>BPM</th>\n",
       "      <th>BPM_Max</th>\n",
       "    </tr>\n",
       "  </thead>\n",
       "  <tbody>\n",
       "    <tr>\n",
       "      <th>0</th>\n",
       "      <td>2096201</td>\n",
       "      <td>RHYTHM</td>\n",
       "      <td>9.0</td>\n",
       "      <td>133.0</td>\n",
       "      <td>133.0</td>\n",
       "      <td>133.0</td>\n",
       "    </tr>\n",
       "    <tr>\n",
       "      <th>1</th>\n",
       "      <td>2096523</td>\n",
       "      <td>ALT</td>\n",
       "      <td>9.6</td>\n",
       "      <td>118.0</td>\n",
       "      <td>150.0</td>\n",
       "      <td>200.0</td>\n",
       "    </tr>\n",
       "    <tr>\n",
       "      <th>2</th>\n",
       "      <td>2167576</td>\n",
       "      <td>ALT</td>\n",
       "      <td>9.4</td>\n",
       "      <td>118.0</td>\n",
       "      <td>150.0</td>\n",
       "      <td>200.0</td>\n",
       "    </tr>\n",
       "  </tbody>\n",
       "</table>\n",
       "</div>"
      ],
      "text/plain": [
       "        ID Skillset   AR  BPM_Min    BPM  BPM_Max\n",
       "0  2096201   RHYTHM  9.0    133.0  133.0    133.0\n",
       "1  2096523      ALT  9.6    118.0  150.0    200.0\n",
       "2  2167576      ALT  9.4    118.0  150.0    200.0"
      ]
     },
     "execution_count": 25,
     "metadata": {},
     "output_type": "execute_result"
    }
   ],
   "source": [
    "df.head(3)"
   ]
  },
  {
   "cell_type": "code",
   "execution_count": 89,
   "id": "19469491",
   "metadata": {},
   "outputs": [
    {
     "data": {
      "text/plain": [
       "<Axes: xlabel='Skillset', ylabel='percent'>"
      ]
     },
     "execution_count": 89,
     "metadata": {},
     "output_type": "execute_result"
    },
    {
     "data": {
      "image/png": "[encoded data removed]",
      "text/plain": [
       "<Figure size 640x480 with 1 Axes>"
      ]
     },
     "metadata": {},
     "output_type": "display_data"
    }
   ],
   "source": [
    "plt.grid()\n",
    "sns.countplot(df, x=\"Skillset\", hue=\"Skillset\",order=df.Skillset.value_counts().keys(), hue_order=df.Skillset.value_counts().keys(), stat=\"percent\")"
   ]
  },
  {
   "cell_type": "code",
   "execution_count": 52,
   "id": "412f8214",
   "metadata": {},
   "outputs": [],
   "source": [
    "b_len = [len(b) for b in b_data]"
   ]
  },
  {
   "cell_type": "code",
   "execution_count": 83,
   "id": "f832a30c",
   "metadata": {},
   "outputs": [
    {
     "data": {
      "text/html": [
       "<div>\n",
       "<style scoped>\n",
       "    .dataframe tbody tr th:only-of-type {\n",
       "        vertical-align: middle;\n",
       "    }\n",
       "\n",
       "    .dataframe tbody tr th {\n",
       "        vertical-align: top;\n",
       "    }\n",
       "\n",
       "    .dataframe thead th {\n",
       "        text-align: right;\n",
       "    }\n",
       "</style>\n",
       "<table border=\"1\" class=\"dataframe\">\n",
       "  <thead>\n",
       "    <tr style=\"text-align: right;\">\n",
       "      <th></th>\n",
       "      <th>Data Lengths</th>\n",
       "    </tr>\n",
       "  </thead>\n",
       "  <tbody>\n",
       "    <tr>\n",
       "      <th>count</th>\n",
       "      <td>3940.000000</td>\n",
       "    </tr>\n",
       "    <tr>\n",
       "      <th>mean</th>\n",
       "      <td>1504.709137</td>\n",
       "    </tr>\n",
       "    <tr>\n",
       "      <th>std</th>\n",
       "      <td>554.088514</td>\n",
       "    </tr>\n",
       "    <tr>\n",
       "      <th>min</th>\n",
       "      <td>387.000000</td>\n",
       "    </tr>\n",
       "    <tr>\n",
       "      <th>25%</th>\n",
       "      <td>1126.000000</td>\n",
       "    </tr>\n",
       "    <tr>\n",
       "      <th>50%</th>\n",
       "      <td>1432.000000</td>\n",
       "    </tr>\n",
       "    <tr>\n",
       "      <th>75%</th>\n",
       "      <td>1765.000000</td>\n",
       "    </tr>\n",
       "    <tr>\n",
       "      <th>90%</th>\n",
       "      <td>2183.300000</td>\n",
       "    </tr>\n",
       "    <tr>\n",
       "      <th>95%</th>\n",
       "      <td>2547.100000</td>\n",
       "    </tr>\n",
       "    <tr>\n",
       "      <th>max</th>\n",
       "      <td>6915.000000</td>\n",
       "    </tr>\n",
       "  </tbody>\n",
       "</table>\n",
       "</div>"
      ],
      "text/plain": [
       "       Data Lengths\n",
       "count   3940.000000\n",
       "mean    1504.709137\n",
       "std      554.088514\n",
       "min      387.000000\n",
       "25%     1126.000000\n",
       "50%     1432.000000\n",
       "75%     1765.000000\n",
       "90%     2183.300000\n",
       "95%     2547.100000\n",
       "max     6915.000000"
      ]
     },
     "execution_count": 83,
     "metadata": {},
     "output_type": "execute_result"
    }
   ],
   "source": [
    "stats = pd.DataFrame({\"Data Lengths\":b_len}).describe(percentiles=[0.25, 0.5, 0.75, 0.9, 0.95])\n",
    "stats"
   ]
  },
  {
   "cell_type": "code",
   "execution_count": 69,
   "id": "09452d1a",
   "metadata": {},
   "outputs": [
    {
     "data": {
      "text/plain": [
       "Data Lengths    3940.0\n",
       "Name: count, dtype: float64"
      ]
     },
     "execution_count": 69,
     "metadata": {},
     "output_type": "execute_result"
    }
   ],
   "source": [
    "stats.loc[\"count\",:]"
   ]
  },
  {
   "cell_type": "code",
   "execution_count": 84,
   "id": "81c9e56a",
   "metadata": {},
   "outputs": [
    {
     "data": {
      "image/png": "[encoded data removed]",
      "text/plain": [
       "<Figure size 640x480 with 1 Axes>"
      ]
     },
     "metadata": {},
     "output_type": "display_data"
    }
   ],
   "source": [
    "plt.hist(b_len, bins=50, histtype=\"step\")\n",
    "plt.axvline(stats.loc[\"mean\"].values, color=\"green\", label =\"Mean\")\n",
    "plt.axvline(stats.loc[\"min\"].values, color=\"red\", label =\"MIN\")\n",
    "plt.axvline(stats.loc[\"max\"].values, color=\"red\", label =\"MAX\")\n",
    "plt.axvline(stats.loc[\"75%\"].values, color=\"black\", label =\"75%\")\n",
    "plt.axvline(stats.loc[\"95%\"].values, color=\"black\", label =\"95%\")\n",
    "plt.legend()\n",
    "plt.show()"
   ]
  },
  {
   "cell_type": "code",
   "execution_count": 88,
   "id": "d6bbcca2",
   "metadata": {},
   "outputs": [
    {
     "data": {
      "text/html": [
       "<div>\n",
       "<style scoped>\n",
       "    .dataframe tbody tr th:only-of-type {\n",
       "        vertical-align: middle;\n",
       "    }\n",
       "\n",
       "    .dataframe tbody tr th {\n",
       "        vertical-align: top;\n",
       "    }\n",
       "\n",
       "    .dataframe thead th {\n",
       "        text-align: right;\n",
       "    }\n",
       "</style>\n",
       "<table border=\"1\" class=\"dataframe\">\n",
       "  <thead>\n",
       "    <tr style=\"text-align: right;\">\n",
       "      <th></th>\n",
       "      <th>AR</th>\n",
       "      <th>BPM_Min</th>\n",
       "      <th>BPM</th>\n",
       "      <th>BPM_Max</th>\n",
       "    </tr>\n",
       "  </thead>\n",
       "  <tbody>\n",
       "    <tr>\n",
       "      <th>mean</th>\n",
       "      <td>9.186764</td>\n",
       "      <td>174.942097</td>\n",
       "      <td>186.857553</td>\n",
       "      <td>192.450132</td>\n",
       "    </tr>\n",
       "    <tr>\n",
       "      <th>std</th>\n",
       "      <td>0.809242</td>\n",
       "      <td>55.892951</td>\n",
       "      <td>37.784426</td>\n",
       "      <td>132.356950</td>\n",
       "    </tr>\n",
       "    <tr>\n",
       "      <th>min</th>\n",
       "      <td>0.000000</td>\n",
       "      <td>-600.000000</td>\n",
       "      <td>72.000000</td>\n",
       "      <td>75.000000</td>\n",
       "    </tr>\n",
       "    <tr>\n",
       "      <th>5%</th>\n",
       "      <td>8.000000</td>\n",
       "      <td>99.000000</td>\n",
       "      <td>130.000000</td>\n",
       "      <td>130.000000</td>\n",
       "    </tr>\n",
       "    <tr>\n",
       "      <th>25%</th>\n",
       "      <td>9.200000</td>\n",
       "      <td>150.000000</td>\n",
       "      <td>165.000000</td>\n",
       "      <td>168.000000</td>\n",
       "    </tr>\n",
       "    <tr>\n",
       "      <th>50%</th>\n",
       "      <td>9.400000</td>\n",
       "      <td>180.000000</td>\n",
       "      <td>185.000000</td>\n",
       "      <td>186.000000</td>\n",
       "    </tr>\n",
       "    <tr>\n",
       "      <th>75%</th>\n",
       "      <td>9.600000</td>\n",
       "      <td>200.000000</td>\n",
       "      <td>202.000000</td>\n",
       "      <td>206.000000</td>\n",
       "    </tr>\n",
       "    <tr>\n",
       "      <th>95%</th>\n",
       "      <td>9.800000</td>\n",
       "      <td>249.810000</td>\n",
       "      <td>258.100000</td>\n",
       "      <td>268.000000</td>\n",
       "    </tr>\n",
       "    <tr>\n",
       "      <th>max</th>\n",
       "      <td>10.000000</td>\n",
       "      <td>310.000000</td>\n",
       "      <td>320.000000</td>\n",
       "      <td>7139.434433</td>\n",
       "    </tr>\n",
       "  </tbody>\n",
       "</table>\n",
       "</div>"
      ],
      "text/plain": [
       "             AR     BPM_Min         BPM      BPM_Max\n",
       "mean   9.186764  174.942097  186.857553   192.450132\n",
       "std    0.809242   55.892951   37.784426   132.356950\n",
       "min    0.000000 -600.000000   72.000000    75.000000\n",
       "5%     8.000000   99.000000  130.000000   130.000000\n",
       "25%    9.200000  150.000000  165.000000   168.000000\n",
       "50%    9.400000  180.000000  185.000000   186.000000\n",
       "75%    9.600000  200.000000  202.000000   206.000000\n",
       "95%    9.800000  249.810000  258.100000   268.000000\n",
       "max   10.000000  310.000000  320.000000  7139.434433"
      ]
     },
     "execution_count": 88,
     "metadata": {},
     "output_type": "execute_result"
    }
   ],
   "source": [
    "df.describe(percentiles=[0.05, 0.25, 0.5, 0.75, 0.95]).iloc[1:]"
   ]
  },
  {
   "cell_type": "code",
   "execution_count": 102,
   "id": "76266902",
   "metadata": {},
   "outputs": [
    {
     "data": {
      "text/plain": [
       "0.9986904458033227"
      ]
     },
     "execution_count": 102,
     "metadata": {},
     "output_type": "execute_result"
    }
   ],
   "source": [
    "b_data[3][:,3][-1]"
   ]
  },
  {
   "cell_type": "code",
   "execution_count": null,
   "id": "517640b1",
   "metadata": {},
   "outputs": [],
   "source": []
  }
 ],
 "metadata": {
  "kernelspec": {
   "display_name": "PythonAllInOne",
   "language": "python",
   "name": "python3"
  },
  "language_info": {
   "codemirror_mode": {
    "name": "ipython",
    "version": 3
   },
   "file_extension": ".py",
   "mimetype": "text/x-python",
   "name": "python",
   "nbconvert_exporter": "python",
   "pygments_lexer": "ipython3",
   "version": "3.12.9"
  }
 },
 "nbformat": 4,
 "nbformat_minor": 5
}
