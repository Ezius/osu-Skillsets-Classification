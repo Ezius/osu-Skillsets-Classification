{
 "cells": [
  {
   "cell_type": "code",
   "execution_count": 2,
   "id": "ca74f7e6",
   "metadata": {},
   "outputs": [],
   "source": [
    "import pandas as pd\n",
    "from pathlib import Path\n",
    "import matplotlib.pyplot as plt\n",
    "import numpy as np\n",
    "import pickle\n",
    "import seaborn as sns"
   ]
  },
  {
   "cell_type": "code",
   "execution_count": 21,
   "id": "1b438079",
   "metadata": {},
   "outputs": [
    {
     "data": {
      "text/html": [
       "<div>\n",
       "<style scoped>\n",
       "    .dataframe tbody tr th:only-of-type {\n",
       "        vertical-align: middle;\n",
       "    }\n",
       "\n",
       "    .dataframe tbody tr th {\n",
       "        vertical-align: top;\n",
       "    }\n",
       "\n",
       "    .dataframe thead th {\n",
       "        text-align: right;\n",
       "    }\n",
       "</style>\n",
       "<table border=\"1\" class=\"dataframe\">\n",
       "  <thead>\n",
       "    <tr style=\"text-align: right;\">\n",
       "      <th></th>\n",
       "      <th>ID</th>\n",
       "      <th>Skillset</th>\n",
       "      <th>AR</th>\n",
       "    </tr>\n",
       "  </thead>\n",
       "  <tbody>\n",
       "    <tr>\n",
       "      <th>0</th>\n",
       "      <td>2445425</td>\n",
       "      <td>AIM</td>\n",
       "      <td>0.850000</td>\n",
       "    </tr>\n",
       "    <tr>\n",
       "      <th>1</th>\n",
       "      <td>2306846</td>\n",
       "      <td>AIM</td>\n",
       "      <td>0.800000</td>\n",
       "    </tr>\n",
       "    <tr>\n",
       "      <th>2</th>\n",
       "      <td>2306846</td>\n",
       "      <td>AIM</td>\n",
       "      <td>5.426667</td>\n",
       "    </tr>\n",
       "    <tr>\n",
       "      <th>3</th>\n",
       "      <td>2307246</td>\n",
       "      <td>ALT</td>\n",
       "      <td>0.930000</td>\n",
       "    </tr>\n",
       "    <tr>\n",
       "      <th>4</th>\n",
       "      <td>2308377</td>\n",
       "      <td>AIM</td>\n",
       "      <td>0.900000</td>\n",
       "    </tr>\n",
       "    <tr>\n",
       "      <th>5</th>\n",
       "      <td>2308377</td>\n",
       "      <td>AIM</td>\n",
       "      <td>5.480000</td>\n",
       "    </tr>\n",
       "    <tr>\n",
       "      <th>6</th>\n",
       "      <td>2308964</td>\n",
       "      <td>AIM</td>\n",
       "      <td>0.970000</td>\n",
       "    </tr>\n",
       "  </tbody>\n",
       "</table>\n",
       "</div>"
      ],
      "text/plain": [
       "        ID Skillset        AR\n",
       "0  2445425      AIM  0.850000\n",
       "1  2306846      AIM  0.800000\n",
       "2  2306846      AIM  5.426667\n",
       "3  2307246      ALT  0.930000\n",
       "4  2308377      AIM  0.900000\n",
       "5  2308377      AIM  5.480000\n",
       "6  2308964      AIM  0.970000"
      ]
     },
     "execution_count": 21,
     "metadata": {},
     "output_type": "execute_result"
    }
   ],
   "source": [
    "with open(\"data/beatmap_data.pkl\", \"rb\") as pkl:\n",
    "    loaded = pickle.load(pkl)\n",
    "\n",
    "b_id, b_data, b_extra_data, b_skill = zip(*[(l[1], l[2], l[3], l[4])for l in loaded])\n",
    "b_extra_data = np.array(b_extra_data)\n",
    "df = pd.DataFrame({\"ID\":b_id, \"Skillset\":b_skill, \"AR\":b_extra_data.flatten()})\n",
    "\n",
    "df.head(7)"
   ]
  },
  {
   "cell_type": "code",
   "execution_count": null,
   "id": "06422732",
   "metadata": {},
   "outputs": [
    {
     "name": "stdout",
     "output_type": "stream",
     "text": [
      "3846\n",
      "5261\n",
      "5334\n",
      "5396\n",
      "7832\n",
      "10001\n",
      "15998\n",
      "16558\n",
      "17433\n"
     ]
    }
   ],
   "source": [
    "max_b = []\n",
    "min_b = []\n",
    "avg_b = []\n",
    "for i,b in enumerate(b_data):\n",
    "    if b.max()>1024 or b.min()<-1024: print(i)\n",
    "    max_b.append(b.max())\n",
    "    min_b.append(b.min())\n",
    "    avg_b.append(b.mean())"
   ]
  },
  {
   "cell_type": "code",
   "execution_count": 92,
   "id": "9d66f274",
   "metadata": {},
   "outputs": [
    {
     "name": "stdout",
     "output_type": "stream",
     "text": [
      "5.999999999999999e+304 3.2806605063152706e+300\n"
     ]
    }
   ],
   "source": [
    "\n",
    "part = 1000000\n",
    "a = 0\n",
    "print(np.max(max_b[a:part]),np.mean(max_b[a:part]))"
   ]
  },
  {
   "cell_type": "code",
   "execution_count": 39,
   "id": "c58e5274",
   "metadata": {},
   "outputs": [
    {
     "data": {
      "text/plain": [
       "3.2806605063152706e+300"
      ]
     },
     "execution_count": 39,
     "metadata": {},
     "output_type": "execute_result"
    }
   ],
   "source": [
    "np.mean(max_b)"
   ]
  },
  {
   "cell_type": "code",
   "execution_count": 23,
   "id": "134b3760",
   "metadata": {},
   "outputs": [
    {
     "data": {
      "text/plain": [
       "-0.015128968253968252"
      ]
     },
     "execution_count": 23,
     "metadata": {},
     "output_type": "execute_result"
    }
   ],
   "source": [
    "b_data[0].min()"
   ]
  },
  {
   "cell_type": "code",
   "execution_count": 24,
   "id": "eba0895d",
   "metadata": {},
   "outputs": [
    {
     "data": {
      "text/plain": [
       "array(['AIM', 'ALT', 'TECH', 'RHYTHM', 'STREAM', 'SPEED'], dtype=object)"
      ]
     },
     "execution_count": 24,
     "metadata": {},
     "output_type": "execute_result"
    }
   ],
   "source": [
    "df.Skillset.unique()"
   ]
  },
  {
   "cell_type": "code",
   "execution_count": 4,
   "id": "19469491",
   "metadata": {},
   "outputs": [
    {
     "data": {
      "text/plain": [
       "<Axes: xlabel='Skillset', ylabel='percent'>"
      ]
     },
     "execution_count": 4,
     "metadata": {},
     "output_type": "execute_result"
    },
    {
     "data": {
      "image/png": "[encoded data removed]",
      "text/plain": [
       "<Figure size 640x480 with 1 Axes>"
      ]
     },
     "metadata": {},
     "output_type": "display_data"
    }
   ],
   "source": [
    "plt.grid()\n",
    "sns.countplot(df, x=\"Skillset\", hue=\"Skillset\",order=df.Skillset.value_counts().keys(), hue_order=df.Skillset.value_counts().keys(), stat=\"percent\")"
   ]
  },
  {
   "cell_type": "code",
   "execution_count": 5,
   "id": "d6bbcca2",
   "metadata": {},
   "outputs": [
    {
     "data": {
      "text/html": [
       "<div>\n",
       "<style scoped>\n",
       "    .dataframe tbody tr th:only-of-type {\n",
       "        vertical-align: middle;\n",
       "    }\n",
       "\n",
       "    .dataframe tbody tr th {\n",
       "        vertical-align: top;\n",
       "    }\n",
       "\n",
       "    .dataframe thead th {\n",
       "        text-align: right;\n",
       "    }\n",
       "</style>\n",
       "<table border=\"1\" class=\"dataframe\">\n",
       "  <thead>\n",
       "    <tr style=\"text-align: right;\">\n",
       "      <th></th>\n",
       "      <th>AR</th>\n",
       "    </tr>\n",
       "  </thead>\n",
       "  <tbody>\n",
       "    <tr>\n",
       "      <th>mean</th>\n",
       "      <td>1.655682</td>\n",
       "    </tr>\n",
       "    <tr>\n",
       "      <th>std</th>\n",
       "      <td>1.672699</td>\n",
       "    </tr>\n",
       "    <tr>\n",
       "      <th>min</th>\n",
       "      <td>0.400000</td>\n",
       "    </tr>\n",
       "    <tr>\n",
       "      <th>5%</th>\n",
       "      <td>0.800000</td>\n",
       "    </tr>\n",
       "    <tr>\n",
       "      <th>25%</th>\n",
       "      <td>0.900000</td>\n",
       "    </tr>\n",
       "    <tr>\n",
       "      <th>50%</th>\n",
       "      <td>0.940000</td>\n",
       "    </tr>\n",
       "    <tr>\n",
       "      <th>75%</th>\n",
       "      <td>0.970000</td>\n",
       "    </tr>\n",
       "    <tr>\n",
       "      <th>95%</th>\n",
       "      <td>5.480000</td>\n",
       "    </tr>\n",
       "    <tr>\n",
       "      <th>max</th>\n",
       "      <td>5.528000</td>\n",
       "    </tr>\n",
       "  </tbody>\n",
       "</table>\n",
       "</div>"
      ],
      "text/plain": [
       "            AR\n",
       "mean  1.655682\n",
       "std   1.672699\n",
       "min   0.400000\n",
       "5%    0.800000\n",
       "25%   0.900000\n",
       "50%   0.940000\n",
       "75%   0.970000\n",
       "95%   5.480000\n",
       "max   5.528000"
      ]
     },
     "execution_count": 5,
     "metadata": {},
     "output_type": "execute_result"
    }
   ],
   "source": [
    "df.describe(percentiles=[0.05, 0.25, 0.5, 0.75, 0.95]).iloc[1:]"
   ]
  },
  {
   "cell_type": "code",
   "execution_count": 6,
   "id": "412f8214",
   "metadata": {},
   "outputs": [],
   "source": [
    "b_len = [len(b) for b in b_data]"
   ]
  },
  {
   "cell_type": "code",
   "execution_count": 7,
   "id": "f832a30c",
   "metadata": {},
   "outputs": [
    {
     "data": {
      "text/html": [
       "<div>\n",
       "<style scoped>\n",
       "    .dataframe tbody tr th:only-of-type {\n",
       "        vertical-align: middle;\n",
       "    }\n",
       "\n",
       "    .dataframe tbody tr th {\n",
       "        vertical-align: top;\n",
       "    }\n",
       "\n",
       "    .dataframe thead th {\n",
       "        text-align: right;\n",
       "    }\n",
       "</style>\n",
       "<table border=\"1\" class=\"dataframe\">\n",
       "  <thead>\n",
       "    <tr style=\"text-align: right;\">\n",
       "      <th></th>\n",
       "      <th>Beatmap Objects</th>\n",
       "    </tr>\n",
       "  </thead>\n",
       "  <tbody>\n",
       "    <tr>\n",
       "      <th>count</th>\n",
       "      <td>18289.000000</td>\n",
       "    </tr>\n",
       "    <tr>\n",
       "      <th>mean</th>\n",
       "      <td>1382.513587</td>\n",
       "    </tr>\n",
       "    <tr>\n",
       "      <th>std</th>\n",
       "      <td>498.518463</td>\n",
       "    </tr>\n",
       "    <tr>\n",
       "      <th>min</th>\n",
       "      <td>358.000000</td>\n",
       "    </tr>\n",
       "    <tr>\n",
       "      <th>25%</th>\n",
       "      <td>1032.000000</td>\n",
       "    </tr>\n",
       "    <tr>\n",
       "      <th>50%</th>\n",
       "      <td>1318.000000</td>\n",
       "    </tr>\n",
       "    <tr>\n",
       "      <th>75%</th>\n",
       "      <td>1637.000000</td>\n",
       "    </tr>\n",
       "    <tr>\n",
       "      <th>90%</th>\n",
       "      <td>1981.200000</td>\n",
       "    </tr>\n",
       "    <tr>\n",
       "      <th>95%</th>\n",
       "      <td>2257.000000</td>\n",
       "    </tr>\n",
       "    <tr>\n",
       "      <th>max</th>\n",
       "      <td>14892.000000</td>\n",
       "    </tr>\n",
       "  </tbody>\n",
       "</table>\n",
       "</div>"
      ],
      "text/plain": [
       "       Beatmap Objects\n",
       "count     18289.000000\n",
       "mean       1382.513587\n",
       "std         498.518463\n",
       "min         358.000000\n",
       "25%        1032.000000\n",
       "50%        1318.000000\n",
       "75%        1637.000000\n",
       "90%        1981.200000\n",
       "95%        2257.000000\n",
       "max       14892.000000"
      ]
     },
     "execution_count": 7,
     "metadata": {},
     "output_type": "execute_result"
    }
   ],
   "source": [
    "stats = pd.DataFrame({\"Beatmap Objects\":b_len}).describe(percentiles=[0.25, 0.5, 0.75, 0.9, 0.95])\n",
    "stats"
   ]
  },
  {
   "cell_type": "code",
   "execution_count": 8,
   "id": "09452d1a",
   "metadata": {},
   "outputs": [
    {
     "data": {
      "text/plain": [
       "Beatmap Objects    18289.0\n",
       "Name: count, dtype: float64"
      ]
     },
     "execution_count": 8,
     "metadata": {},
     "output_type": "execute_result"
    }
   ],
   "source": [
    "stats.loc[\"count\",:]"
   ]
  },
  {
   "cell_type": "code",
   "execution_count": 9,
   "id": "81c9e56a",
   "metadata": {},
   "outputs": [
    {
     "data": {
      "image/png": "[encoded data removed]",
      "text/plain": [
       "<Figure size 1600x400 with 1 Axes>"
      ]
     },
     "metadata": {},
     "output_type": "display_data"
    }
   ],
   "source": [
    "plt.figure(figsize=(16,4))\n",
    "plt.hist(b_len, bins=50, histtype=\"step\")\n",
    "plt.axvline(stats.loc[\"mean\"].values, color=\"green\", label =\"Mean\")\n",
    "plt.axvline(stats.loc[\"min\"].values, color=\"red\", label =\"MIN\")\n",
    "plt.axvline(stats.loc[\"max\"].values, color=\"red\", label =\"MAX\")\n",
    "plt.axvline(stats.loc[\"75%\"].values, color=\"black\", label =\"75%\")\n",
    "plt.axvline(stats.loc[\"95%\"].values, color=\"black\", label =\"95%\")\n",
    "plt.legend()\n",
    "plt.show()"
   ]
  },
  {
   "cell_type": "code",
   "execution_count": 10,
   "id": "517640b1",
   "metadata": {},
   "outputs": [],
   "source": [
    "import re\n",
    "def parse_collection_from_txt(string):\n",
    "        return re.findall(r\"https://osu\\.ppy\\.sh/s/(\\d+)\", string), re.findall(r\"★\\((\\d+)\\)\", string)\n",
    "\n",
    "def get_beatmapdata():\n",
    "    skills = [\"AIM\", \"STREAM\", \"ALT\", \"TECH\", \"SPEED\", \"RHYTHM\", \"DT_AIM\", \"DT_ALT\", \"DT_TECH\", \"DT_SPEED\", \"DT_RHYTHM\"]\n",
    "    skill_strings = []\n",
    "    for skill in skills:\n",
    "        with open(f\"chiv_collections/{skill}.txt\", encoding=\"utf-8\", errors=\"ignore\") as f:\n",
    "            skill_strings.append(''.join(f.readlines()))\n",
    "\n",
    "\n",
    "    set_ids_dict = {}\n",
    "    beatmap_ids_dict = {}\n",
    "    for i,skill in enumerate(skill_strings):\n",
    "        set_ids_dict[skills[i]], beatmap_ids_dict[skills[i]] = parse_collection_from_txt(skill)\n",
    "    return set_ids_dict, beatmap_ids_dict\n",
    "\n",
    "set_ids_dict, beatmap_ids_dict = get_beatmapdata()"
   ]
  },
  {
   "cell_type": "code",
   "execution_count": 11,
   "id": "c7fbf86c",
   "metadata": {},
   "outputs": [
    {
     "data": {
      "text/plain": [
       "[(8009, 'AIM'),\n",
       " (2226, 'STREAM'),\n",
       " (3208, 'ALT'),\n",
       " (2705, 'TECH'),\n",
       " (743, 'SPEED'),\n",
       " (761, 'RHYTHM'),\n",
       " (785, 'DT_AIM'),\n",
       " (620, 'DT_ALT'),\n",
       " (113, 'DT_TECH'),\n",
       " (1251, 'DT_SPEED'),\n",
       " (603, 'DT_RHYTHM')]"
      ]
     },
     "execution_count": 11,
     "metadata": {},
     "output_type": "execute_result"
    }
   ],
   "source": [
    "[(len(beatmap_ids_dict[key]), key) for key in beatmap_ids_dict.keys()]"
   ]
  },
  {
   "cell_type": "code",
   "execution_count": 12,
   "id": "4134db27",
   "metadata": {},
   "outputs": [],
   "source": [
    "overlaps = {}\n",
    "for key1 in beatmap_ids_dict:\n",
    "    for key2 in beatmap_ids_dict:\n",
    "        if key1 < key2:  # avoid duplicates and self-comparison\n",
    "            overlap = set(beatmap_ids_dict[key1]) & set(beatmap_ids_dict[key2])\n",
    "            overlaps[(key1, key2)] = len(overlap)"
   ]
  },
  {
   "cell_type": "code",
   "execution_count": 13,
   "id": "ca0b3cdc",
   "metadata": {},
   "outputs": [
    {
     "data": {
      "text/plain": [
       "{('AIM', 'STREAM'): 24,\n",
       " ('AIM', 'ALT'): 99,\n",
       " ('AIM', 'TECH'): 72,\n",
       " ('AIM', 'SPEED'): 5,\n",
       " ('AIM', 'RHYTHM'): 21,\n",
       " ('AIM', 'DT_AIM'): 785,\n",
       " ('AIM', 'DT_ALT'): 44,\n",
       " ('AIM', 'DT_TECH'): 3,\n",
       " ('AIM', 'DT_SPEED'): 62,\n",
       " ('AIM', 'DT_RHYTHM'): 20,\n",
       " ('STREAM', 'TECH'): 45,\n",
       " ('ALT', 'STREAM'): 41,\n",
       " ('ALT', 'TECH'): 78,\n",
       " ('ALT', 'SPEED'): 1,\n",
       " ('ALT', 'RHYTHM'): 96,\n",
       " ('ALT', 'DT_AIM'): 1,\n",
       " ('ALT', 'DT_ALT'): 620,\n",
       " ('ALT', 'DT_TECH'): 5,\n",
       " ('ALT', 'DT_SPEED'): 4,\n",
       " ('ALT', 'DT_RHYTHM'): 52,\n",
       " ('SPEED', 'STREAM'): 6,\n",
       " ('SPEED', 'TECH'): 5,\n",
       " ('RHYTHM', 'STREAM'): 57,\n",
       " ('RHYTHM', 'TECH'): 30,\n",
       " ('RHYTHM', 'SPEED'): 0,\n",
       " ('DT_AIM', 'STREAM'): 1,\n",
       " ('DT_AIM', 'TECH'): 1,\n",
       " ('DT_AIM', 'SPEED'): 0,\n",
       " ('DT_AIM', 'RHYTHM'): 6,\n",
       " ('DT_AIM', 'DT_ALT'): 1,\n",
       " ('DT_AIM', 'DT_TECH'): 1,\n",
       " ('DT_AIM', 'DT_SPEED'): 3,\n",
       " ('DT_AIM', 'DT_RHYTHM'): 6,\n",
       " ('DT_ALT', 'STREAM'): 1,\n",
       " ('DT_ALT', 'TECH'): 9,\n",
       " ('DT_ALT', 'SPEED'): 0,\n",
       " ('DT_ALT', 'RHYTHM'): 37,\n",
       " ('DT_ALT', 'DT_TECH'): 4,\n",
       " ('DT_ALT', 'DT_SPEED'): 0,\n",
       " ('DT_ALT', 'DT_RHYTHM'): 33,\n",
       " ('DT_TECH', 'STREAM'): 0,\n",
       " ('DT_TECH', 'TECH'): 113,\n",
       " ('DT_TECH', 'SPEED'): 0,\n",
       " ('DT_TECH', 'RHYTHM'): 17,\n",
       " ('DT_SPEED', 'STREAM'): 445,\n",
       " ('DT_SPEED', 'TECH'): 21,\n",
       " ('DT_SPEED', 'SPEED'): 0,\n",
       " ('DT_SPEED', 'RHYTHM'): 52,\n",
       " ('DT_SPEED', 'DT_TECH'): 5,\n",
       " ('DT_RHYTHM', 'STREAM'): 42,\n",
       " ('DT_RHYTHM', 'TECH'): 22,\n",
       " ('DT_RHYTHM', 'SPEED'): 0,\n",
       " ('DT_RHYTHM', 'RHYTHM'): 603,\n",
       " ('DT_RHYTHM', 'DT_TECH'): 17,\n",
       " ('DT_RHYTHM', 'DT_SPEED'): 51}"
      ]
     },
     "execution_count": 13,
     "metadata": {},
     "output_type": "execute_result"
    }
   ],
   "source": [
    "overlaps"
   ]
  },
  {
   "cell_type": "code",
   "execution_count": null,
   "id": "2726698b",
   "metadata": {},
   "outputs": [],
   "source": []
  }
 ],
 "metadata": {
  "kernelspec": {
   "display_name": "PythonAllInOne",
   "language": "python",
   "name": "python3"
  },
  "language_info": {
   "codemirror_mode": {
    "name": "ipython",
    "version": 3
   },
   "file_extension": ".py",
   "mimetype": "text/x-python",
   "name": "python",
   "nbconvert_exporter": "python",
   "pygments_lexer": "ipython3",
   "version": "3.12.9"
  }
 },
 "nbformat": 4,
 "nbformat_minor": 5
}
