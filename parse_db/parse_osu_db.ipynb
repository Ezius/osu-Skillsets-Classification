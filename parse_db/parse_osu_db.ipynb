{
 "cells": [
  {
   "cell_type": "code",
   "execution_count": 36,
   "id": "a0733193",
   "metadata": {},
   "outputs": [],
   "source": [
    "import struct\n",
    "from io import BytesIO\n",
    "\n",
    "# --- Binary helpers ---\n",
    "def read_byte(f): return struct.unpack(\"<B\", f.read(1))[0]\n",
    "def read_bool(f): return struct.unpack(\"<?\", f.read(1))[0]\n",
    "def read_int(f): return struct.unpack(\"<i\", f.read(4))[0]\n",
    "def read_short(f): return struct.unpack(\"<h\", f.read(2))[0]\n",
    "def read_long(f): return struct.unpack(\"<q\", f.read(8))[0]\n",
    "def read_float(f): return struct.unpack(\"<f\", f.read(4))[0]\n",
    "def read_double(f): return struct.unpack(\"<d\", f.read(8))[0]\n",
    "\n",
    "def read_uleb128(f):\n",
    "    result = 0\n",
    "    shift = 0\n",
    "    while True:\n",
    "        b = read_byte(f)\n",
    "        result |= (b & 0x7f) << shift\n",
    "        if (b & 0x80) == 0:\n",
    "            break\n",
    "        shift += 7\n",
    "    return result\n",
    "\n",
    "def read_string(f):\n",
    "    marker = read_byte(f)\n",
    "    if marker != 0x0b:  # 0x00 = empty string\n",
    "        return \"\"\n",
    "    length = read_uleb128(f)\n",
    "    return f.read(length).decode(\"utf-8\", errors=\"ignore\")\n",
    "\n",
    "# --- Star rating helper ---\n",
    "def read_star_pairs(f, double=False):\n",
    "    n = read_int(f)\n",
    "    pairs = []\n",
    "    for _ in range(n):\n",
    "        marker = read_byte(f)\n",
    "        if marker != 0x08:\n",
    "            raise ValueError(f\"Unexpected marker for star pair: {marker}\")\n",
    "        mod = read_int(f)\n",
    "        marker2 = read_byte(f)\n",
    "        if double:\n",
    "            if marker2 != 0x0d:\n",
    "                raise ValueError(f\"Expected 0x0d for double star value, got {marker2}\")\n",
    "            value = read_double(f)\n",
    "        else:\n",
    "            if marker2 != 0x0c:\n",
    "                raise ValueError(f\"Expected 0x0c for float star value, got {marker2}\")\n",
    "            value = read_float(f)\n",
    "        pairs.append((mod, value))\n",
    "    return pairs\n",
    "\n",
    "# --- Timing points helper ---\n",
    "def read_timing_points(f):\n",
    "    n = read_int(f)\n",
    "    points = []\n",
    "    for _ in range(n):\n",
    "        bpm = read_double(f)\n",
    "        offset = read_double(f)\n",
    "        uninherited = read_bool(f)\n",
    "        points.append({\n",
    "            \"bpm\": bpm,\n",
    "            \"offset\": offset,\n",
    "            \"uninherited\": uninherited\n",
    "        })\n",
    "    return points\n",
    "\n",
    "def parse_beatmap(buf, version):\n",
    "    beatmap = {}\n",
    "    beatmap[\"artist\"] = read_string(buf)\n",
    "    beatmap[\"artist_unicode\"] = read_string(buf)\n",
    "    beatmap[\"title\"] = read_string(buf)\n",
    "    beatmap[\"title_unicode\"] = read_string(buf)\n",
    "    beatmap[\"creator\"] = read_string(buf)\n",
    "    beatmap[\"diff_name\"] = read_string(buf)\n",
    "    beatmap[\"audio_file\"] = read_string(buf)\n",
    "    beatmap[\"md5_hash\"] = read_string(buf)\n",
    "    beatmap[\"filename\"] = read_string(buf)\n",
    "\n",
    "    beatmap[\"ranked_status\"] = read_byte(buf)\n",
    "    beatmap[\"nr_hitcircles\"] = read_short(buf)\n",
    "    beatmap[\"nr_sliders\"] = read_short(buf)\n",
    "    beatmap[\"nr_spinners\"] = read_short(buf)\n",
    "\n",
    "    beatmap[\"last_modification_time\"] = read_long(buf)\n",
    "\n",
    "    #Doesnt work before version 20140609\n",
    "    beatmap[\"ar\"] = read_float(buf)\n",
    "    beatmap[\"cs\"] = read_float(buf)\n",
    "    beatmap[\"hp\"] = read_float(buf)\n",
    "    beatmap[\"od\"] = read_float(buf)\n",
    "\n",
    "    beatmap[\"slider_velocity\"] = read_double(buf)\n",
    "\n",
    "    if version>=20250815:\n",
    "        star_rating_double = False\n",
    "    else:\n",
    "        star_rating_double = True\n",
    "\n",
    "    beatmap[\"std_stars\"] = read_star_pairs(buf, double=star_rating_double)\n",
    "    beatmap[\"taiko_stars\"] = read_star_pairs(buf, double=star_rating_double)\n",
    "    beatmap[\"ctb_stars\"] = read_star_pairs(buf, double=star_rating_double)\n",
    "    beatmap[\"mania_stars\"] = read_star_pairs(buf, double=star_rating_double)\n",
    "\n",
    "    beatmap[\"drain_time\"] = read_int(buf)\n",
    "    beatmap[\"total_time\"] = read_int(buf)\n",
    "    beatmap[\"preview_time\"] = read_int(buf)\n",
    "\n",
    "    beatmap[\"timing_points\"] = read_timing_points(buf)\n",
    "\n",
    "    beatmap[\"diff_id\"] = read_int(buf)\n",
    "    beatmap[\"beatmap_id\"] = read_int(buf)\n",
    "    beatmap[\"thread_id\"] = read_int(buf)\n",
    "\n",
    "    beatmap[\"grade_std\"] = read_byte(buf)\n",
    "    beatmap[\"grade_taiko\"] = read_byte(buf)\n",
    "    beatmap[\"grade_ctb\"] = read_byte(buf)\n",
    "    beatmap[\"grade_mania\"] = read_byte(buf)\n",
    "\n",
    "    beatmap[\"local_offset\"] = read_short(buf)\n",
    "    beatmap[\"stack_leniency\"] = read_float(buf)\n",
    "    beatmap[\"mode\"] = read_byte(buf)\n",
    "\n",
    "    beatmap[\"source\"] = read_string(buf)\n",
    "    beatmap[\"tags\"] = read_string(buf)\n",
    "    beatmap[\"online_offset\"] = read_short(buf)\n",
    "    beatmap[\"font\"] = read_string(buf)\n",
    "\n",
    "    beatmap[\"unplayed\"] = read_bool(buf)\n",
    "    beatmap[\"last_played\"] = read_long(buf)\n",
    "    beatmap[\"osz2\"] = read_bool(buf)\n",
    "    beatmap[\"folder_name\"] = read_string(buf)\n",
    "    beatmap[\"last_checked\"] = read_long(buf)\n",
    "    beatmap[\"ignore_sound\"] = read_bool(buf)\n",
    "    beatmap[\"ignore_skin\"] = read_bool(buf)\n",
    "    beatmap[\"disable_storyboard\"] = read_bool(buf)\n",
    "    beatmap[\"disable_video\"] = read_bool(buf)\n",
    "    beatmap[\"visual_override\"] = read_bool(buf)\n",
    "\n",
    "    beatmap[\"last_mod_time\"] = read_int(buf)\n",
    "    beatmap[\"mania_scroll_speed\"] = read_byte(buf)\n",
    "\n",
    "    return beatmap\n"
   ]
  },
  {
   "cell_type": "code",
   "execution_count": 37,
   "id": "9a196c6e",
   "metadata": {},
   "outputs": [],
   "source": [
    "def parse_osudb(file_path):\n",
    "    with open(file_path, \"rb\") as f:\n",
    "        buf = BytesIO(f.read())\n",
    "\n",
    "    osu_version = read_int(buf)\n",
    "    folder_count = read_int(buf)\n",
    "    account_unlocked = read_bool(buf)\n",
    "    unlock_date = read_long(buf)\n",
    "    player_name = read_string(buf)\n",
    "\n",
    "    num_beatmaps = read_int(buf)\n",
    "    print(f\"Total of {num_beatmaps} beatmaps\")\n",
    "    beatmaps = [parse_beatmap(buf, osu_version) for _ in range(num_beatmaps)]\n",
    "    return {\n",
    "        \"version\": osu_version,\n",
    "        \"player\": player_name,\n",
    "        \"beatmaps\": beatmaps\n",
    "    }"
   ]
  },
  {
   "cell_type": "code",
   "execution_count": 70,
   "id": "34070c2b",
   "metadata": {},
   "outputs": [
    {
     "name": "stdout",
     "output_type": "stream",
     "text": [
      "6557732\n",
      "6557732\n",
      "6557732\n",
      "6557732\n",
      "6557732\n",
      "6557732\n",
      "6557732\n",
      "6557732\n",
      "6557732\n",
      "6557732\n"
     ]
    }
   ],
   "source": [
    "import win32gui\n",
    "import re\n",
    "import time\n",
    "for i in range(10):\n",
    "    thetitle = win32gui.GetForegroundWindow()\n",
    "    print(thetitle)\n",
    "    time.sleep(0.2)"
   ]
  },
  {
   "cell_type": "code",
   "execution_count": 75,
   "id": "f45d26b3",
   "metadata": {},
   "outputs": [
    {
     "name": "stdout",
     "output_type": "stream",
     "text": [
      "Total of 126734 beatmaps\n",
      "Found 126734 beatmaps\n"
     ]
    }
   ],
   "source": [
    "db = parse_osudb(\"E:\\\\osu!\\\\osu!.db\")\n",
    "print(f\"Found {len(db['beatmaps'])} beatmaps\")\n",
    "#first = db['beatmaps'][0]\n",
    "#print(first[\"artist\"], \"-\", first[\"title\"], \"[\", first[\"diff_name\"], \"]\")\n",
    "#print(\"CS:\", first[\"cs\"], \"AR:\", first[\"ar\"], \"HP:\", first[\"hp\"], \"OD:\", first[\"od\"])\n",
    "#print(\"First timing point:\", first[\"timing_points\"][0] if first[\"timing_points\"] else \"None\")"
   ]
  },
  {
   "cell_type": "code",
   "execution_count": 98,
   "id": "8e0ee06b",
   "metadata": {},
   "outputs": [
    {
     "name": "stdout",
     "output_type": "stream",
     "text": [
      "Yousei Teikoku - Senketsu no Chikai [Insanity]\n",
      "Yousei Teikoku - Senketsu no Chikai [Insanity]\n",
      "Yousei Teikoku - Senketsu no Chikai [Insanity]\n",
      "Yousei Teikoku - Senketsu no Chikai [Insanity]\n",
      "Yousei Teikoku - Senketsu no Chikai [Insanity]\n",
      "Yousei Teikoku - Senketsu no Chikai [Insanity]\n",
      "Yousei Teikoku - Senketsu no Chikai [Insanity]\n",
      "Yousei Teikoku - Senketsu no Chikai [Insanity]\n",
      "Yousei Teikoku - Senketsu no Chikai [Insanity]\n",
      "Yousei Teikoku - Senketsu no Chikai [Insanity]\n",
      "Yousei Teikoku - Senketsu no Chikai [Insanity]\n",
      "Yousei Teikoku - Senketsu no Chikai [Insanity]\n",
      "Yousei Teikoku - Senketsu no Chikai [Insanity]\n",
      "Yousei Teikoku - Senketsu no Chikai [Insanity]\n",
      "Yousei Teikoku - Senketsu no Chikai [Insanity]\n",
      "Yousei Teikoku - Senketsu no Chikai [Insanity]\n",
      "Yousei Teikoku - Senketsu no Chikai [Insanity]\n"
     ]
    }
   ],
   "source": [
    "pattern = r\"^(?P<artist>.+?)\\s*-\\s*(?P<songtitle>.+?)\\s*\\[(?P<diffname>.+)\\]$\"\n",
    "for i in range(20):\n",
    "    window_title = win32gui.GetWindowText(win32gui.GetForegroundWindow())\n",
    "    if window_title[:4] == \"osu!\":\n",
    "        print(window_title[8:])\n",
    "        song = window_title[8:]\n",
    "        match = re.match(pattern, song)\n",
    "\n",
    "        if match:\n",
    "            artist = match.group(\"artist\")\n",
    "            songtitle = match.group(\"songtitle\")\n",
    "            diffname = match.group(\"diffname\")\n",
    "        md5_hashes = [b['md5_hash'] for b in db['beatmaps'] if b['title']==songtitle and b['artist'] == artist and b['diff_name'] == diffname]\n",
    "    time.sleep(0.5)"
   ]
  },
  {
   "cell_type": "code",
   "execution_count": 99,
   "id": "83ac69a6",
   "metadata": {},
   "outputs": [
    {
     "data": {
      "text/plain": [
       "('Senketsu no Chikai', 'Yousei Teikoku')"
      ]
     },
     "execution_count": 99,
     "metadata": {},
     "output_type": "execute_result"
    }
   ],
   "source": [
    "songtitle, artist"
   ]
  },
  {
   "cell_type": "code",
   "execution_count": 100,
   "id": "409e0861",
   "metadata": {},
   "outputs": [
    {
     "data": {
      "text/plain": [
       "['92437112319516d39b458898ae95a840']"
      ]
     },
     "execution_count": 100,
     "metadata": {},
     "output_type": "execute_result"
    }
   ],
   "source": [
    "[b['md5_hash'] for b in db['beatmaps'] if b['title']==songtitle and b['artist'] == artist and b['diff_name'] == diffname]"
   ]
  },
  {
   "cell_type": "code",
   "execution_count": 102,
   "id": "d30c51a7",
   "metadata": {},
   "outputs": [],
   "source": [
    "md5_pattern = re.compile(rb\"\\b[a-f0-9]{32}\\b\")\n",
    "md5_hash = '92437112319516d39b458898ae95a840'\n"
   ]
  },
  {
   "cell_type": "code",
   "execution_count": null,
   "id": "0d3f7610",
   "metadata": {},
   "outputs": [],
   "source": []
  }
 ],
 "metadata": {
  "kernelspec": {
   "display_name": "PythonAllInOne",
   "language": "python",
   "name": "python3"
  },
  "language_info": {
   "codemirror_mode": {
    "name": "ipython",
    "version": 3
   },
   "file_extension": ".py",
   "mimetype": "text/x-python",
   "name": "python",
   "nbconvert_exporter": "python",
   "pygments_lexer": "ipython3",
   "version": "3.12.9"
  }
 },
 "nbformat": 4,
 "nbformat_minor": 5
}
